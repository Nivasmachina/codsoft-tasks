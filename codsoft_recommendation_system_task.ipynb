{
  "nbformat": 4,
  "nbformat_minor": 0,
  "metadata": {
    "colab": {
      "provenance": [],
      "authorship_tag": "ABX9TyOI9zd0Ps9pQ6zrY3capaa1",
      "include_colab_link": true
    },
    "kernelspec": {
      "name": "python3",
      "display_name": "Python 3"
    },
    "language_info": {
      "name": "python"
    }
  },
  "cells": [
    {
      "cell_type": "markdown",
      "metadata": {
        "id": "view-in-github",
        "colab_type": "text"
      },
      "source": [
        "<a href=\"https://colab.research.google.com/github/Nivasmachina/codsoft-tasks/blob/main/codsoft_recommendation_system_task.ipynb\" target=\"_parent\"><img src=\"https://colab.research.google.com/assets/colab-badge.svg\" alt=\"Open In Colab\"/></a>"
      ]
    },
    {
      "cell_type": "code",
      "execution_count": 3,
      "metadata": {
        "colab": {
          "base_uri": "https://localhost:8080/"
        },
        "id": "WLO63FGv3YQS",
        "outputId": "aa187165-e47b-493c-a923-413a20aefbe8"
      },
      "outputs": [
        {
          "output_type": "stream",
          "name": "stdout",
          "text": [
            "User preferences: ['Action', 'Sci-Fi']\n",
            "\n",
            "Recommended Movies:\n",
            "The Matrix (Similarity: 1.0)\n",
            "The Avengers (Similarity: 0.816)\n",
            "Inception (Similarity: 0.816)\n"
          ]
        }
      ],
      "source": [
        "import numpy as np\n",
        "from sklearn.metrics.pairwise import cosine_similarity\n",
        "\n",
        "movies = [\n",
        "    {\"title\": \"The Matrix\", \"genres\": [\"Action\", \"Sci-Fi\"]},\n",
        "    {\"title\": \"Inception\", \"genres\": [\"Action\", \"Sci-Fi\", \"Thriller\"]},\n",
        "    {\"title\": \"The Shawshank Redemption\", \"genres\": [\"Drama\"]},\n",
        "    {\"title\": \"Forrest Gump\", \"genres\": [\"Drama\", \"Romance\"]},\n",
        "    {\"title\": \"The Avengers\", \"genres\": [\"Action\", \"Adventure\", \"Sci-Fi\"]},\n",
        "    {\"title\": \"Titanic\", \"genres\": [\"Romance\", \"Drama\"]},\n",
        "    {\"title\": \"Interstellar\", \"genres\": [\"Sci-Fi\", \"Drama\", \"Adventure\"]},\n",
        "    {\"title\": \"Mad Max: Fury Road\", \"genres\": [\"Action\", \"Adventure\"]},\n",
        "]\n",
        "\n",
        "all_genres = [\"Action\", \"Adventure\", \"Drama\", \"Romance\", \"Sci-Fi\", \"Thriller\"]\n",
        "\n",
        "def create_genre_vector(movie_genres, all_genres):\n",
        "    return [1 if genre in movie_genres else 0 for genre in all_genres]\n",
        "\n",
        "movie_vectors = np.array([create_genre_vector(movie[\"genres\"], all_genres) for movie in movies])\n",
        "\n",
        "def recommend_movies(user_preferences, top_n=3):\n",
        "    user_vector = np.array([create_genre_vector(user_preferences, all_genres)])\n",
        "    similarities = cosine_similarity(user_vector, movie_vectors)[0]\n",
        "    top_indices = similarities.argsort()[-top_n:][::-1]\n",
        "    recommendations = [\n",
        "        (movies[i][\"title\"], round(similarities[i], 3))\n",
        "        for i in top_indices\n",
        "    ]\n",
        "    return recommendations\n",
        "\n",
        "def main():\n",
        "    user_preferences = [\"Action\", \"Sci-Fi\"]\n",
        "    print(f\"User preferences: {user_preferences}\")\n",
        "    try:\n",
        "        recommendations = recommend_movies(user_preferences, top_n=3)\n",
        "        print(\"\\nRecommended Movies:\")\n",
        "        for title, score in recommendations:\n",
        "            print(f\"{title} (Similarity: {score})\")\n",
        "    except Exception as e:\n",
        "        print(f\"Error: {e}\")\n",
        "\n",
        "if __name__ == \"__main__\":\n",
        "    main()\n"
      ]
    }
  ]
}