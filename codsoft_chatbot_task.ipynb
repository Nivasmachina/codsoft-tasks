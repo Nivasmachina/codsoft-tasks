{
  "nbformat": 4,
  "nbformat_minor": 0,
  "metadata": {
    "colab": {
      "provenance": [],
      "authorship_tag": "ABX9TyPappvDEyb/VagM3jdpMvEg",
      "include_colab_link": true
    },
    "kernelspec": {
      "name": "python3",
      "display_name": "Python 3"
    },
    "language_info": {
      "name": "python"
    }
  },
  "cells": [
    {
      "cell_type": "markdown",
      "metadata": {
        "id": "view-in-github",
        "colab_type": "text"
      },
      "source": [
        "<a href=\"https://colab.research.google.com/github/Nivasmachina/codsoft-tasks/blob/main/codsoft_chatbot_task.ipynb\" target=\"_parent\"><img src=\"https://colab.research.google.com/assets/colab-badge.svg\" alt=\"Open In Colab\"/></a>"
      ]
    },
    {
      "cell_type": "code",
      "execution_count": 1,
      "metadata": {
        "colab": {
          "base_uri": "https://localhost:8080/"
        },
        "id": "WLO63FGv3YQS",
        "outputId": "444334df-d0ee-4aec-b556-6d17a6e6fac3"
      },
      "outputs": [
        {
          "output_type": "stream",
          "name": "stdout",
          "text": [
            "Bot: Hello! I'm a simple chatbot. Type 'exit' to end the chat.\n",
            "You: hi\n",
            "Bot: Hello! How can I assist you today?\n",
            "You: who are you\n",
            "Bot: I'm a basic rule-based chatbot created by machina nivas.\n",
            "You: what's the time\n",
            "Bot: The current time is 15:25:29.\n",
            "You: weather\n",
            "Bot: I'm not connected to the internet, but I recommend checking your weather app or a site like weather.com.\n",
            "You: can you hep me\n",
            "Bot: I'm sorry, I didn't understand that. Can you rephrase?\n",
            "You: help\n",
            "Bot: Sure! You can ask me about the time, weather, who I am, or just say hello.\n",
            "You: bye\n",
            "Bot: I'm sorry, I didn't understand that. Can you rephrase?\n",
            "You: exit\n",
            "Bot: Goodbye! Have a great day!\n"
          ]
        }
      ],
      "source": [
        "def chatbot():\n",
        "    print(\"Bot: Hello! I'm a simple chatbot. Type 'exit' to end the chat.\")\n",
        "\n",
        "    while True:\n",
        "        user_input = input(\"You: \").lower().strip()\n",
        "\n",
        "        if user_input == \"exit\":\n",
        "            print(\"Bot: Goodbye! Have a great day!\")\n",
        "            break\n",
        "        elif user_input in [\"hi\", \"hello\", \"hey\", \"good morning\", \"good afternoon\"]:\n",
        "            print(\"Bot: Hello! How can I assist you today?\")\n",
        "        elif \"who are you\" in user_input or \"what are you\" in user_input:\n",
        "            print(\"Bot: I'm a basic rule-based chatbot created by machina nivas.\")\n",
        "        elif \"time\" in user_input:\n",
        "            from datetime import datetime\n",
        "            now = datetime.now().strftime(\"%H:%M:%S\")\n",
        "            print(f\"Bot: The current time is {now}.\")\n",
        "        elif \"weather\" in user_input:\n",
        "            print(\"Bot: I'm not connected to the internet, but I recommend checking your weather app or a site like weather.com.\")\n",
        "        elif \"help\" in user_input or \"support\" in user_input or \"assist\" in user_input:\n",
        "            print(\"Bot: Sure! You can ask me about the time, weather, who I am, or just say hello.\")\n",
        "        else:\n",
        "            print(\"Bot: I'm sorry, I didn't understand that. Can you rephrase?\")\n",
        "\n",
        "chatbot()\n",
        "\n",
        ""
      ]
    }
  ]
}